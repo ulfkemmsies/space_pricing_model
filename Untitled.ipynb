{
 "cells": [
  {
   "cell_type": "code",
   "execution_count": 1,
   "id": "58c299e1",
   "metadata": {},
   "outputs": [],
   "source": [
    "\n",
    "from sim_classes import *\n",
    "import pandas as pd\n",
    "import os\n",
    "import json\n",
    "import networkx as nx\n",
    "from operator import mul\n",
    "from functools import reduce\n",
    "from deepdiff import DeepDiff\n",
    "\n",
    "\n",
    "from configparser import NoOptionError\n",
    "from xmlrpc.client import Boolean\n",
    "from scipy import stats\n",
    "import numpy as np\n",
    "import pandas as pd\n",
    "from itertools import chain\n",
    "from operator import attrgetter\n",
    "import math as m\n",
    "import networkx as nx\n",
    "from operator import mul\n",
    "from functools import reduce\n",
    "from deepdiff import DeepDiff\n",
    "\n",
    "from general_funcs import *"
   ]
  },
  {
   "cell_type": "code",
   "execution_count": 15,
   "id": "b4e7e928",
   "metadata": {},
   "outputs": [
    {
     "name": "stderr",
     "output_type": "stream",
     "text": [
      "c:\\Users\\ulfkemmsies\\Documents\\exogravitas\\LSOC_pricing_model\\streamlit_app\\sim_classes.py:147: VisibleDeprecationWarning: Creating an ndarray from ragged nested sequences (which is a list-or-tuple of lists-or-tuples-or ndarrays with different lengths or shapes) is deprecated. If you meant to do this, you must specify 'dtype=object' when creating the ndarray.\n",
      "  paths_and_Ks = np.array(total_Ks)\n"
     ]
    },
    {
     "data": {
      "text/plain": [
       "{'fuel_price': 3520.5199660632225, 'best_price': 1000}"
      ]
     },
     "execution_count": 15,
     "metadata": {},
     "output_type": "execute_result"
    }
   ],
   "source": [
    "from sim_classes import *\n",
    "\n",
    "sim = Price_Sim()\n",
    "sim.graph_drawer(old_graph=None, dict_of_dicts=sim.trajectory_data)\n",
    "\n",
    "\n",
    "# test = Graph(test_dict)\n",
    "# test.assign_prop_pay(graph=test.g_main)\n",
    "# subgraphs = test.best_fuel_flow_subgraphs(graph=test.g_main, sources=[\"LEO\", \"EML1\", \"LLO\", \"Moon\"], fuel_sources=[\"Moon\", \"LEO\"])\n",
    "# # test.g_main.edges(data=\"prop_pay\", keys=True)\n",
    "# # test.fuel_flow_path(test.g_main, \"LEO\")\n",
    "# # test.find_best_path(test.g_main, \"LLO\", \"EML1\", \"LEO\")\n",
    "sim.graph.converge_prices(sim.graph.subgraphs, local_fuel_prices={\"LEO\": 1000, \"Moon\": 2000})\n",
    "# test.system_state_to_dict(subgraphs, 1)\n",
    "sim.graph.subgraphs[\"Moon\"].nodes['LEO']"
   ]
  },
  {
   "cell_type": "code",
   "execution_count": 12,
   "id": "c306c9b7",
   "metadata": {},
   "outputs": [
    {
     "data": {
      "text/plain": [
       "NodeDataView({'LEO': {}, 'EML1': {}, 'LLO': {}, 'Moon': {}})"
      ]
     },
     "execution_count": 12,
     "metadata": {},
     "output_type": "execute_result"
    }
   ],
   "source": [
    "sim.graph.subgraphs[\"Moon\"].nodes(data=True)"
   ]
  },
  {
   "cell_type": "code",
   "execution_count": 4,
   "id": "4778a246",
   "metadata": {},
   "outputs": [
    {
     "name": "stderr",
     "output_type": "stream",
     "text": [
      "C:\\Users\\ulfkemmsies\\AppData\\Local\\Temp\\ipykernel_41996\\83427528.py:7: DeprecationWarning: Importing display from IPython.core.display is deprecated since IPython 7.14, please import from IPython display\n",
      "  from IPython.core.display import display, HTML\n"
     ]
    }
   ],
   "source": [
    "import plotly.express as px\n",
    "import streamlit.components.v1 as components\n",
    "import networkx as nx\n",
    "from pyvis.network import Network\n",
    "from sim_classes import *\n",
    "from general_funcs import *\n",
    "from IPython.core.display import display, HTML"
   ]
  },
  {
   "cell_type": "code",
   "execution_count": 8,
   "id": "a28c7ea2",
   "metadata": {},
   "outputs": [
    {
     "data": {
      "text/html": [
       "<html>\n",
       "<head>\n",
       "<link rel=\"stylesheet\" href=\"https://cdn.jsdelivr.net/npm/vis-network@latest/styles/vis-network.css\" type=\"text/css\" />\n",
       "<script type=\"text/javascript\" src=\"https://cdn.jsdelivr.net/npm/vis-network@latest/dist/vis-network.min.js\"> </script>\n",
       "<center>\n",
       "<h1></h1>\n",
       "</center>\n",
       "\n",
       "<!-- <link rel=\"stylesheet\" href=\"../node_modules/vis/dist/vis.min.css\" type=\"text/css\" />\n",
       "<script type=\"text/javascript\" src=\"../node_modules/vis/dist/vis.js\"> </script>-->\n",
       "\n",
       "<style type=\"text/css\">\n",
       "\n",
       "        #mynetwork {\n",
       "            width: 500px;\n",
       "            height: 700px;\n",
       "            background-color: #222222;\n",
       "            border: 1px solid lightgray;\n",
       "            position: relative;\n",
       "            float: left;\n",
       "        }\n",
       "\n",
       "        \n",
       "\n",
       "        \n",
       "\n",
       "        \n",
       "</style>\n",
       "\n",
       "</head>\n",
       "\n",
       "<body>\n",
       "<div id = \"mynetwork\"></div>\n",
       "\n",
       "\n",
       "<script type=\"text/javascript\">\n",
       "\n",
       "    // initialize global variables.\n",
       "    var edges;\n",
       "    var nodes;\n",
       "    var network; \n",
       "    var container;\n",
       "    var options, data;\n",
       "\n",
       "    \n",
       "    // This method is responsible for drawing the graph, returns the drawn network\n",
       "    function drawGraph() {\n",
       "        var container = document.getElementById('mynetwork');\n",
       "        \n",
       "        \n",
       "\n",
       "        // parsing and collecting nodes and edges from the python\n",
       "        nodes = new vis.DataSet([{\"font\": {\"color\": \"white\"}, \"id\": \"EML1\", \"label\": \"EML1\", \"shape\": \"dot\", \"size\": 10}, {\"font\": {\"color\": \"white\"}, \"id\": \"LEO\", \"label\": \"LEO\", \"shape\": \"dot\", \"size\": 10}, {\"font\": {\"color\": \"white\"}, \"id\": \"LLO\", \"label\": \"LLO\", \"shape\": \"dot\", \"size\": 10}, {\"font\": {\"color\": \"white\"}, \"id\": \"Moon\", \"label\": \"Moon\", \"shape\": \"dot\", \"size\": 10}]);\n",
       "        edges = new vis.DataSet([{\"arrows\": \"to\", \"dV\": 0.77, \"directionality\": 1, \"from\": \"EML1\", \"label\": 1, \"prop_pay\": 0.20363176258433802, \"to\": \"LEO\", \"vehicle\": \"Aerobraker\", \"weight\": 1}, {\"arrows\": \"to\", \"dV\": 1.43, \"directionality\": 1, \"from\": \"LLO\", \"label\": 1, \"prop_pay\": 0.40461358087970795, \"to\": \"LEO\", \"vehicle\": \"Aerobraker\", \"weight\": 1}, {\"arrows\": \"to\", \"dV\": 0.64, \"directionality\": 1, \"from\": \"LLO\", \"label\": 1, \"prop_pay\": 0.1452294583420295, \"to\": \"EML1\", \"vehicle\": \"Space Tug\", \"weight\": 1}, {\"arrows\": \"to\", \"dV\": 2.74, \"directionality\": 1, \"from\": \"Moon\", \"label\": 1, \"prop_pay\": 0.8875820433000626, \"to\": \"LEO\", \"vehicle\": \"Lunar Aerobraker\", \"weight\": 1}, {\"arrows\": \"to\", \"dV\": 2.52, \"directionality\": 1, \"from\": \"Moon\", \"label\": 1, \"prop_pay\": 0.6938095032051519, \"to\": \"EML1\", \"vehicle\": \"Lunar Lander\", \"weight\": 1}, {\"arrows\": \"to\", \"dV\": 1.87, \"directionality\": 1, \"from\": \"Moon\", \"label\": 1, \"prop_pay\": 0.48139331308468397, \"to\": \"LLO\", \"vehicle\": \"Lunar Lander\", \"weight\": 1}]);\n",
       "\n",
       "        // adding nodes and edges to the graph\n",
       "        data = {nodes: nodes, edges: edges};\n",
       "\n",
       "        var options = {\n",
       "    \"configure\": {\n",
       "        \"enabled\": false\n",
       "    },\n",
       "    \"edges\": {\n",
       "        \"color\": {\n",
       "            \"inherit\": true\n",
       "        },\n",
       "        \"smooth\": {\n",
       "            \"enabled\": true,\n",
       "            \"type\": \"dynamic\"\n",
       "        }\n",
       "    },\n",
       "    \"interaction\": {\n",
       "        \"dragNodes\": true,\n",
       "        \"hideEdgesOnDrag\": false,\n",
       "        \"hideNodesOnDrag\": false\n",
       "    },\n",
       "    \"physics\": {\n",
       "        \"enabled\": true,\n",
       "        \"repulsion\": {\n",
       "            \"centralGravity\": 0.33,\n",
       "            \"damping\": 0.95,\n",
       "            \"nodeDistance\": 420,\n",
       "            \"springConstant\": 0.1,\n",
       "            \"springLength\": 110\n",
       "        },\n",
       "        \"solver\": \"repulsion\",\n",
       "        \"stabilization\": {\n",
       "            \"enabled\": true,\n",
       "            \"fit\": true,\n",
       "            \"iterations\": 1000,\n",
       "            \"onlyDynamicEdges\": false,\n",
       "            \"updateInterval\": 50\n",
       "        }\n",
       "    }\n",
       "};\n",
       "        \n",
       "        \n",
       "\n",
       "        \n",
       "\n",
       "        network = new vis.Network(container, data, options);\n",
       "\t \n",
       "        \n",
       "\n",
       "\n",
       "        \n",
       "\n",
       "        return network;\n",
       "\n",
       "    }\n",
       "\n",
       "    drawGraph();\n",
       "\n",
       "</script>\n",
       "</body>\n",
       "</html>"
      ],
      "text/plain": [
       "<IPython.core.display.HTML object>"
      ]
     },
     "metadata": {},
     "output_type": "display_data"
    }
   ],
   "source": [
    "sim = Price_Sim()\n",
    "\n",
    "sim.graph_drawer(old_graph=None, dict_of_dicts=sim.trajectory_data)\n",
    "\n",
    "# Initiate PyVis network object\n",
    "space_net = Network(notebook=True, directed=True, height=\"700px\", bgcolor='#222222', font_color='white')\n",
    "\n",
    "# Take Networkx graph and translate it to a PyVis graph format\n",
    "space_net.from_nx(sim.graph.subgraphs[\"Moon\"])\n",
    "\n",
    "# Generate network with specific layout settings\n",
    "space_net.repulsion(node_distance=420, central_gravity=0.33,\n",
    "                    spring_length=110, spring_strength=0.10,\n",
    "                    damping=0.95)\n",
    "\n",
    "# Save and read graph as HTML file (on Streamlit Sharing)\n",
    "try:\n",
    "    path = './tmp'\n",
    "    space_net.save_graph(f'{path}/pyvis_graph.html')\n",
    "    HtmlFile = open(f'{path}/pyvis_graph.html','r',encoding='utf-8')\n",
    "\n",
    "# Save and read graph as HTML file (locally)\n",
    "except:\n",
    "    path = './html_files'\n",
    "    space_net.save_graph(f'{path}/pyvis_graph.html')\n",
    "    HtmlFile = open(f'{path}/pyvis_graph.html','r',encoding='utf-8')\n",
    "\n",
    "# Load HTML into HTML component for display on Streamlit\n",
    "\n",
    "space_net.show(f'{path}/pyvis_graph.html')\n",
    "\n",
    "display(HTML(f'{path}/pyvis_graph.html'))"
   ]
  }
 ],
 "metadata": {
  "kernelspec": {
   "display_name": "Python 3 (ipykernel)",
   "language": "python",
   "name": "python3"
  },
  "language_info": {
   "codemirror_mode": {
    "name": "ipython",
    "version": 3
   },
   "file_extension": ".py",
   "mimetype": "text/x-python",
   "name": "python",
   "nbconvert_exporter": "python",
   "pygments_lexer": "ipython3",
   "version": "3.9.12"
  }
 },
 "nbformat": 4,
 "nbformat_minor": 5
}
